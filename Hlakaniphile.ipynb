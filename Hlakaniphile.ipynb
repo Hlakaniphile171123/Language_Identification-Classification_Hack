{
 "cells": [
  {
   "cell_type": "markdown",
   "id": "7dec59f7",
   "metadata": {},
   "source": [
    "# Language Identification in South African Text: Kaggle Competition"
   ]
  },
  {
   "cell_type": "markdown",
   "id": "51052afc",
   "metadata": {},
   "source": [
    "# Name: Hlakaniphile Thulile Zwane"
   ]
  },
  {
   "cell_type": "markdown",
   "id": "7a9de569",
   "metadata": {},
   "source": [
    "My approach to the Language Identification Challenge that was held on Kaggle is detailed in this notebook which I have created. The purpose of the challenge is to properly categorise every material that has been produced in any of the 11 official languages of South Africa. Among the many processes that are included in the notebook are data exploration, preprocessing, feature extraction, model training, evaluation, and the development of submissions. By utilising techniques from the field of machine learning, my objective is to develop a classification model that is capable of accurately identifying the language of a text sample that has been provided."
   ]
  },
  {
   "cell_type": "markdown",
   "id": "e2aaf042",
   "metadata": {},
   "source": [
    "## Importing Libraries"
   ]
  },
  {
   "cell_type": "code",
   "execution_count": 77,
   "id": "bba61ef1",
   "metadata": {},
   "outputs": [],
   "source": [
    "#Importing necessary libraries\n",
    "import pandas as pd\n",
    "import numpy as np\n",
    "import re\n",
    "import matplotlib.pyplot as plt\n",
    "import seaborn as sns\n",
    "%matplotlib inline\n",
    "\n",
    "\n",
    "\n",
    "from sklearn.model_selection import train_test_split\n",
    "from sklearn.feature_extraction.text import CountVectorizer, TfidfTransformer\n",
    "from sklearn.metrics import f1_score\n",
    "from sklearn.linear_model import LogisticRegression\n",
    "from sklearn.neighbors import KNeighborsClassifier\n",
    "from sklearn.svm import SVC\n",
    "from sklearn.naive_bayes import MultinomialNB\n",
    "from sklearn.feature_extraction.text import TfidfVectorizer\n",
    "from sklearn.model_selection import train_test_split\n",
    "from sklearn.metrics import f1_score\n",
    "from sklearn.ensemble import AdaBoostClassifier\n",
    "from sklearn.tree import DecisionTreeClassifier\n",
    "from sklearn.ensemble import RandomForestClassifier\n",
    "from sklearn.svm import LinearSVC\n",
    "from sklearn.naive_bayes import BernoulliNB\n",
    "from sklearn.naive_bayes import GaussianNB\n"
   ]
  },
  {
   "cell_type": "markdown",
   "id": "2b4b444c",
   "metadata": {},
   "source": [
    "## Loading of data"
   ]
  },
  {
   "cell_type": "code",
   "execution_count": 78,
   "id": "8db5948d",
   "metadata": {},
   "outputs": [],
   "source": [
    "#reading the train set \n",
    "train_df = pd.read_csv('train_set.csv')\n",
    "#reading the test set \n",
    "test_df = pd.read_csv('test_set.csv')"
   ]
  },
  {
   "cell_type": "markdown",
   "id": "39c764b9",
   "metadata": {},
   "source": [
    "## Exploratory Data Analysis (EDA)"
   ]
  },
  {
   "cell_type": "code",
   "execution_count": 79,
   "id": "94ef1ac1",
   "metadata": {},
   "outputs": [
    {
     "name": "stdout",
     "output_type": "stream",
     "text": [
      "Train Dataset:\n",
      "  lang_id                                               text\n",
      "0     xho  umgaqo-siseko wenza amalungiselelo kumaziko ax...\n",
      "1     xho  i-dha iya kuba nobulumko bokubeka umsebenzi na...\n",
      "2     eng  the province of kwazulu-natal department of tr...\n",
      "3     nso  o netefatša gore o ba file dilo ka moka tše le...\n",
      "4     ven  khomishini ya ndinganyiso ya mbeu yo ewa maana...\n",
      "<bound method NDFrame.tail of       lang_id                                               text\n",
      "0         xho  umgaqo-siseko wenza amalungiselelo kumaziko ax...\n",
      "1         xho  i-dha iya kuba nobulumko bokubeka umsebenzi na...\n",
      "2         eng  the province of kwazulu-natal department of tr...\n",
      "3         nso  o netefatša gore o ba file dilo ka moka tše le...\n",
      "4         ven  khomishini ya ndinganyiso ya mbeu yo ewa maana...\n",
      "...       ...                                                ...\n",
      "32995     tsn  popo ya dipolateforomo tse ke go tlisa boetele...\n",
      "32996     sot  modise mosadi na o ntse o sa utlwe hore thaban...\n",
      "32997     eng  closing date for the submission of completed t...\n",
      "32998     xho  nawuphina umntu ofunyenwe enetyala phantsi kwa...\n",
      "32999     sot  mafapha a mang le ona a lokela ho etsa ditlale...\n",
      "\n",
      "[33000 rows x 2 columns]>\n"
     ]
    }
   ],
   "source": [
    "#displaying the first rows and last rows of the train dataset\n",
    "print(\"Train Dataset:\")\n",
    "print(train_df.head())\n",
    "print(train_df.tail)"
   ]
  },
  {
   "cell_type": "code",
   "execution_count": 80,
   "id": "688a3614",
   "metadata": {},
   "outputs": [
    {
     "name": "stdout",
     "output_type": "stream",
     "text": [
      "\n",
      "Test Dataset:\n",
      "   index                                               text\n",
      "0      1  Mmasepala, fa maemo a a kgethegileng a letlele...\n",
      "1      2  Uzakwaziswa ngokufaneleko nakungafuneka eminye...\n",
      "2      3         Tshivhumbeo tshi fana na ngano dza vhathu.\n",
      "3      4  Kube inja nelikati betingevakala kutsi titsini...\n",
      "4      5                      Winste op buitelandse valuta.\n",
      "<bound method NDFrame.tail of       index                                               text\n",
      "0         1  Mmasepala, fa maemo a a kgethegileng a letlele...\n",
      "1         2  Uzakwaziswa ngokufaneleko nakungafuneka eminye...\n",
      "2         3         Tshivhumbeo tshi fana na ngano dza vhathu.\n",
      "3         4  Kube inja nelikati betingevakala kutsi titsini...\n",
      "4         5                      Winste op buitelandse valuta.\n",
      "...     ...                                                ...\n",
      "5677   5678                   You mark your ballot in private.\n",
      "5678   5679  Ge o ka kgetha ka bowena go se šomiše Mofani k...\n",
      "5679   5680  E Ka kopo etsa kgetho ya hao ka hloko, hobane ...\n",
      "5680   5681  TB ke bokudi ba PMB, mme Morero o tla lefella ...\n",
      "5681   5682              Vakatjhela iwebhusayidi yethu ku-www.\n",
      "\n",
      "[5682 rows x 2 columns]>\n"
     ]
    }
   ],
   "source": [
    "#displaying the first rows and last rows of the test dataset\n",
    "print(\"\\nTest Dataset:\")\n",
    "print(test_df.head())\n",
    "print(test_df.tail)"
   ]
  },
  {
   "cell_type": "markdown",
   "id": "af191c4f",
   "metadata": {},
   "source": [
    "# Checking if there are null values\n"
   ]
  },
  {
   "cell_type": "code",
   "execution_count": 81,
   "id": "c8a330fc",
   "metadata": {},
   "outputs": [
    {
     "name": "stdout",
     "output_type": "stream",
     "text": [
      "<class 'pandas.core.frame.DataFrame'>\n",
      "RangeIndex: 33000 entries, 0 to 32999\n",
      "Data columns (total 2 columns):\n",
      " #   Column   Non-Null Count  Dtype \n",
      "---  ------   --------------  ----- \n",
      " 0   lang_id  33000 non-null  object\n",
      " 1   text     33000 non-null  object\n",
      "dtypes: object(2)\n",
      "memory usage: 515.8+ KB\n"
     ]
    }
   ],
   "source": [
    "train_df.info()"
   ]
  },
  {
   "cell_type": "markdown",
   "id": "34d740b2",
   "metadata": {},
   "source": [
    "### Analysis of the language distribution in the dataset and pie chart"
   ]
  },
  {
   "cell_type": "code",
   "execution_count": 82,
   "id": "bd30b78a",
   "metadata": {},
   "outputs": [
    {
     "name": "stdout",
     "output_type": "stream",
     "text": [
      "8.0\n",
      "8.0\n"
     ]
    },
    {
     "data": {
      "image/png": "[encoded data removed]",
      "text/plain": [
       "<Figure size 800x800 with 1 Axes>"
      ]
     },
     "metadata": {},
     "output_type": "display_data"
    }
   ],
   "source": [
    "plot_size = plt.rcParams[\"figure.figsize\"] \n",
    "print(plot_size[0]) \n",
    "print(plot_size[1])\n",
    "\n",
    "plot_size[0] = 8\n",
    "plot_size[1] = 8\n",
    "plt.rcParams[\"figure.figsize\"] = plot_size \n",
    "\n",
    "# Distribution of sentences from the dataset\n",
    "train_df.lang_id.value_counts().plot(kind='bar')\n",
    "plt.title('Distribution of Sentences by Language')\n",
    "plt.xlabel('Language ID')\n",
    "plt.ylabel('Count')\n",
    "plt.show()"
   ]
  },
  {
   "cell_type": "code",
   "execution_count": 83,
   "id": "95a1c80e",
   "metadata": {},
   "outputs": [
    {
     "data": {
      "image/png": "[encoded data removed]",
      "text/plain": [
       "<Figure size 3300x300 with 11 Axes>"
      ]
     },
     "metadata": {},
     "output_type": "display_data"
    }
   ],
   "source": [
    "# checking the length of each language\n",
    "train_df['length'] = train_df['text'].str.len()\n",
    "\n",
    "# Create Subplots for each class\n",
    "tweet= sns.FacetGrid(train_df,col=\"lang_id\" )\n",
    "tweet = tweet.map(plt.hist, 'length')\n",
    "tweet = plt.show()"
   ]
  },
  {
   "cell_type": "markdown",
   "id": "11c01059",
   "metadata": {},
   "source": [
    "## Feature Engineering\n"
   ]
  },
  {
   "cell_type": "markdown",
   "id": "645fcd55",
   "metadata": {},
   "source": [
    "### Classifying the independent and dependent variables"
   ]
  },
  {
   "cell_type": "code",
   "execution_count": 84,
   "id": "451ba038",
   "metadata": {},
   "outputs": [],
   "source": [
    "#text data is the independent variable of the training set\n",
    "X = train_df[\"text\"] \n",
    "#lang_id is the dependent variable of the training set\n",
    "Y = train_df[\"lang_id\"]\n",
    "#text data is the independent variable of the test set\n",
    "X_tst = test_df['text'] "
   ]
  },
  {
   "cell_type": "markdown",
   "id": "ac26cf88",
   "metadata": {},
   "source": [
    "### Text Preprocessing\n",
    "#### Cleaning Data\n",
    "\n",
    "*  Convert words to lower Case  \n",
    "*  Removing punctuations"
   ]
  },
  {
   "cell_type": "code",
   "execution_count": 85,
   "id": "55b21813",
   "metadata": {},
   "outputs": [],
   "source": [
    "# creating a list for appending the preprocessed text\n",
    "datafm_list = []\n",
    "# iterating through all the text\n",
    "for text in X:\n",
    "       # removing the symbols and numbers\n",
    "        text = re.sub(r'[!@#$(),n\"%^*?:;~`0-9]', ' ', text)\n",
    "        # converting the text to lower case\n",
    "        text = text.lower()\n",
    "        # appending to data_list\n",
    "        datafm_list.append(text)"
   ]
  },
  {
   "cell_type": "code",
   "execution_count": 86,
   "id": "92dcd20e",
   "metadata": {},
   "outputs": [],
   "source": [
    "# creating a list for appending the preprocessed text in the text data set\n",
    "datafm_list1 = []\n",
    "# iterating through all the text\n",
    "for text in X_tst:\n",
    "       # removing the symbols and numbers\n",
    "        text = re.sub(r'[!@#$(),n\"%^*?:;~`0-9]', ' ', text)\n",
    "        text = re.sub(r'[[]]', ' ', text)\n",
    "        # converting the text to lower case\n",
    "        text = text.lower()\n",
    "        # appending to data_list\n",
    "        datafm_list1.append(text)"
   ]
  },
  {
   "cell_type": "markdown",
   "id": "1104c682",
   "metadata": {},
   "source": [
    "### Vectorization"
   ]
  },
  {
   "cell_type": "code",
   "execution_count": 87,
   "id": "c19ef4ed",
   "metadata": {},
   "outputs": [],
   "source": [
    "count_v = CountVectorizer()\n",
    "X = count_v.fit_transform(X)"
   ]
  },
  {
   "cell_type": "code",
   "execution_count": 88,
   "id": "66b347e5",
   "metadata": {},
   "outputs": [
    {
     "name": "stdout",
     "output_type": "stream",
     "text": [
      "Transformed Test Data Shape: (1, 1)\n"
     ]
    }
   ],
   "source": [
    "# Example: Create a DataFrame 'df' with a column 'text' and 'target'\n",
    "data = {'text': ['sentence 1', 'sentence 2', 'sentence 3'],\n",
    "        'target': ['label_A', 'label_B', 'label_A']}\n",
    "\n",
    "df = pd.DataFrame(data)\n",
    "\n",
    "# Split the data into training and testing sets\n",
    "X_train, X_test, y_train, y_test = train_test_split(df['text'], df['target'], test_size=0.2, random_state=42)\n",
    "\n",
    "# Initialize the CountVectorizer\n",
    "cv = CountVectorizer()\n",
    "\n",
    "# Fit and transform the training data\n",
    "X_train_transformed = cv.fit_transform(X_train)\n",
    "\n",
    "# Transform the test data using the previously defined CountVectorizer\n",
    "X_test_transformed = cv.transform(X_test)\n",
    "\n",
    "# Display the shape of the transformed test data\n",
    "print(\"Transformed Test Data Shape:\", X_test_transformed.shape)\n"
   ]
  },
  {
   "cell_type": "markdown",
   "id": "e3e7e1c3",
   "metadata": {},
   "source": [
    "### Data Preprocessing"
   ]
  },
  {
   "cell_type": "code",
   "execution_count": 89,
   "id": "bc71687a",
   "metadata": {},
   "outputs": [],
   "source": [
    "def preprocess_data(train_df, test_df):\n",
    "    # Initializing the TF-IDF vectorizer\n",
    "    vectorizer = TfidfVectorizer()\n",
    "\n",
    "    # Fitting the vectorizer on the training data\n",
    "    vectorizer.fit(train_df['text'])\n",
    "\n",
    "    # Transforming the training and test data using the fitted vectorizer\n",
    "    train_features = vectorizer.transform(train_df['text'])\n",
    "    test_features = vectorizer.transform(test_df['text'])\n",
    "\n",
    "    return train_features, test_features, vectorizer"
   ]
  },
  {
   "cell_type": "markdown",
   "id": "772c0947",
   "metadata": {},
   "source": [
    "## Train- Test Split"
   ]
  },
  {
   "cell_type": "code",
   "execution_count": 90,
   "id": "4b84ce9a",
   "metadata": {},
   "outputs": [],
   "source": [
    "train_features, test_features, vectorizer = preprocess_data(train_df, test_df)\n",
    "X_train, X_val, y_train, y_val = train_test_split(train_features, train_df['lang_id'], test_size=0.2, random_state=42)"
   ]
  },
  {
   "cell_type": "markdown",
   "id": "1ab230ca",
   "metadata": {},
   "source": [
    "## Training and Evaluation"
   ]
  },
  {
   "cell_type": "markdown",
   "id": "917bbb38",
   "metadata": {},
   "source": [
    "### Logistic Regression Classifier"
   ]
  },
  {
   "cell_type": "code",
   "execution_count": 91,
   "id": "a754cbec",
   "metadata": {},
   "outputs": [
    {
     "name": "stdout",
     "output_type": "stream",
     "text": [
      "Logistic Regression F1 Score: 0.994246281483686\n"
     ]
    }
   ],
   "source": [
    "logReg_model = LogisticRegression()\n",
    "\n",
    "# Fit the classifier to the training data\n",
    "logReg_model.fit(X_train, y_train)\n",
    "\n",
    "# Make predictions on the validation data\n",
    "logReg_preds = logReg_model.predict(X_val)\n",
    "\n",
    "# Evaluate the model using F1 score\n",
    "logReg_f1 = f1_score(y_val, logReg_preds, average='weighted')\n",
    "\n",
    "# Print the F1 score\n",
    "print(\"Logistic Regression F1 Score:\", logReg_f1)"
   ]
  },
  {
   "cell_type": "markdown",
   "id": "87083e89",
   "metadata": {},
   "source": [
    "### K-Nearest Neighbors (KNN) Classifier"
   ]
  },
  {
   "cell_type": "code",
   "execution_count": 92,
   "id": "cfc9fc6c",
   "metadata": {},
   "outputs": [
    {
     "name": "stdout",
     "output_type": "stream",
     "text": [
      "KNN F1 Score: 0.9593450685034197\n"
     ]
    }
   ],
   "source": [
    "KNN_model = KNeighborsClassifier()\n",
    "\n",
    "# Fit the classifier to the training data\n",
    "KNN_model.fit(X_train, y_train)\n",
    "\n",
    "# Make predictions on the validation data\n",
    "KNN_preds = KNN_model.predict(X_val)\n",
    "\n",
    "# Evaluate the model using F1 score\n",
    "KNN_f1 = f1_score(y_val, KNN_preds, average='weighted')\n",
    "\n",
    "# Print the F1 score\n",
    "print(\"KNN F1 Score:\", KNN_f1)"
   ]
  },
  {
   "cell_type": "markdown",
   "id": "61e89aeb",
   "metadata": {},
   "source": [
    "### Support Vector Machine Classifier"
   ]
  },
  {
   "cell_type": "code",
   "execution_count": 93,
   "id": "cf7a5cbc",
   "metadata": {},
   "outputs": [
    {
     "name": "stdout",
     "output_type": "stream",
     "text": [
      "SVM F1 Score: 0.9942650475719713\n"
     ]
    }
   ],
   "source": [
    "SVM = SVC()\n",
    "\n",
    "# Fit the classifier to the training data\n",
    "SVM.fit(X_train, y_train)\n",
    "\n",
    "# Make predictions on the validation data\n",
    "SVM_predictions = SVM.predict(X_val)\n",
    "\n",
    "# Evaluate the model using F1 score\n",
    "SVM_f1 = f1_score(y_val, SVM_predictions, average='weighted')\n",
    "\n",
    "# Print the F1 score\n",
    "print(\"SVM F1 Score:\", SVM_f1)"
   ]
  },
  {
   "cell_type": "markdown",
   "id": "6fa6f7ff",
   "metadata": {},
   "source": [
    "### Naive Bayes Classifier"
   ]
  },
  {
   "cell_type": "code",
   "execution_count": 94,
   "id": "119f6227",
   "metadata": {},
   "outputs": [
    {
     "name": "stdout",
     "output_type": "stream",
     "text": [
      "Naive Bayes F1 Score: 0.9980299054262277\n"
     ]
    }
   ],
   "source": [
    "NaiveB = MultinomialNB()\n",
    "\n",
    "# Fit the classifier to the training data\n",
    "NaiveB.fit(X_train, y_train)\n",
    "\n",
    "# Make predictions on the validation data\n",
    "NaiveB_predictions = NaiveB.predict(X_val)\n",
    "\n",
    "# Evaluate the model using F1 score\n",
    "NaiveB_f1 = f1_score(y_val, NaiveB_predictions, average='weighted')\n",
    "\n",
    "# Print the F1 score\n",
    "print(\"Naive Bayes F1 Score:\", NaiveB_f1)"
   ]
  },
  {
   "cell_type": "markdown",
   "id": "0e285a2b",
   "metadata": {},
   "source": [
    "### Decision Tree Classifier"
   ]
  },
  {
   "cell_type": "code",
   "execution_count": 95,
   "id": "ed7615ee",
   "metadata": {},
   "outputs": [
    {
     "name": "stdout",
     "output_type": "stream",
     "text": [
      "Decision Tree Classifier F1 Score: 0.9474261628165818\n"
     ]
    }
   ],
   "source": [
    "# Instantiate the Decision Tree classifier\n",
    "Decision_tree = DecisionTreeClassifier()\n",
    "\n",
    "# Fit the classifier to the training data\n",
    "Decision_tree.fit(X_train, y_train)\n",
    "\n",
    "# Make predictions on the validation data\n",
    "Decision_tree_predictions = Decision_tree.predict(X_val)\n",
    "\n",
    "# Evaluate the model using F1 score\n",
    "Decision_tree_f1 = f1_score(y_val, Decision_tree_predictions, average='weighted')\n",
    "\n",
    "# Print the F1 score\n",
    "print(\"Decision Tree Classifier F1 Score:\", Decision_tree_f1)\n"
   ]
  },
  {
   "cell_type": "markdown",
   "id": "cc94e5d9",
   "metadata": {},
   "source": [
    "### Random Forest Classifier"
   ]
  },
  {
   "cell_type": "code",
   "execution_count": 96,
   "id": "1fa3beec",
   "metadata": {},
   "outputs": [
    {
     "name": "stdout",
     "output_type": "stream",
     "text": [
      "Random Forest Classifier F1 Score: 0.9856893477722262\n"
     ]
    }
   ],
   "source": [
    "# Instantiate the Random Forest classifier\n",
    "random_forest = RandomForestClassifier()\n",
    "\n",
    "# Fit the classifier to the training data\n",
    "random_forest.fit(X_train, y_train)\n",
    "\n",
    "# Make predictions on the validation data\n",
    "rf_predictions = random_forest.predict(X_val)\n",
    "\n",
    "# Evaluate the model using F1 score\n",
    "rf_f1 = f1_score(y_val, rf_predictions, average='weighted')\n",
    "\n",
    "# Print the F1 score\n",
    "print(\"Random Forest Classifier F1 Score:\", rf_f1)\n"
   ]
  },
  {
   "cell_type": "markdown",
   "id": "5cd5fda4",
   "metadata": {},
   "source": [
    "### LinearSVC Classifier"
   ]
  },
  {
   "cell_type": "code",
   "execution_count": 97,
   "id": "f8201f67",
   "metadata": {},
   "outputs": [
    {
     "name": "stderr",
     "output_type": "stream",
     "text": [
      "c:\\Users\\hlaka\\AppData\\Local\\Programs\\Python\\Python312\\Lib\\site-packages\\sklearn\\svm\\_classes.py:31: FutureWarning: The default value of `dual` will change from `True` to `'auto'` in 1.5. Set the value of `dual` explicitly to suppress the warning.\n",
      "  warnings.warn(\n"
     ]
    },
    {
     "name": "stdout",
     "output_type": "stream",
     "text": [
      "Linear SVC Classifier F1 Score: 0.9965130432004637\n"
     ]
    }
   ],
   "source": [
    "\n",
    "# Instantiate the Linear SVC classifier\n",
    "linear_svc = LinearSVC()\n",
    "\n",
    "# Fit the classifier to the training data\n",
    "linear_svc.fit(X_train, y_train)\n",
    "\n",
    "# Make predictions on the validation data\n",
    "svc_predictions = linear_svc.predict(X_val)\n",
    "\n",
    "# Evaluate the model using F1 score\n",
    "svc_f1 = f1_score(y_val, svc_predictions, average='weighted')\n",
    "\n",
    "# Print the F1 score\n",
    "print(\"Linear SVC Classifier F1 Score:\", svc_f1)\n"
   ]
  },
  {
   "cell_type": "markdown",
   "id": "9dcccf8f",
   "metadata": {},
   "source": [
    "## Generate predictions on the test set"
   ]
  },
  {
   "cell_type": "code",
   "execution_count": 101,
   "id": "98a7fe8d",
   "metadata": {},
   "outputs": [],
   "source": [
    "# Converting the test data into TF-IDF vectors\n",
    "X_test = vectorizer.transform(test_df['text'])\n",
    "\n",
    "# Generating predictions on the best performing model\n",
    "test_predictions = NaiveB.predict(X_test)"
   ]
  },
  {
   "cell_type": "markdown",
   "id": "2d7ec6ca",
   "metadata": {},
   "source": [
    "## Creating a csv for submission"
   ]
  },
  {
   "cell_type": "code",
   "execution_count": 102,
   "id": "a1f06d01",
   "metadata": {},
   "outputs": [],
   "source": [
    "# Creating a submission dataframe with 'index' and 'lang_id' columns\n",
    "submission_df = pd.DataFrame({'index': test_df['index'], 'lang_id': test_predictions})\n",
    "\n",
    "submission_df.to_csv('Submission.csv', index=False)"
   ]
  },
  {
   "cell_type": "code",
   "execution_count": null,
   "id": "b630a836",
   "metadata": {},
   "outputs": [],
   "source": []
  },
  {
   "cell_type": "code",
   "execution_count": null,
   "id": "49624b13",
   "metadata": {},
   "outputs": [],
   "source": []
  }
 ],
 "metadata": {
  "kernelspec": {
   "display_name": "Python 3 (ipykernel)",
   "language": "python",
   "name": "python3"
  },
  "language_info": {
   "codemirror_mode": {
    "name": "ipython",
    "version": 3
   },
   "file_extension": ".py",
   "mimetype": "text/x-python",
   "name": "python",
   "nbconvert_exporter": "python",
   "pygments_lexer": "ipython3",
   "version": "3.12.0"
  }
 },
 "nbformat": 4,
 "nbformat_minor": 5
}
