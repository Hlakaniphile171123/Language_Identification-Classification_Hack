{
 "cells": [
  {
   "cell_type": "markdown",
   "id": "7dec59f7",
   "metadata": {},
   "source": [
    "# Language Identification in South African Text: Kaggle Competition"
   ]
  },
  {
   "cell_type": "markdown",
   "id": "51052afc",
   "metadata": {},
   "source": [
    "# Name: Hlakaniphile Thulile Zwane"
   ]
  },
  {
   "cell_type": "markdown",
   "id": "7a9de569",
   "metadata": {},
   "source": [
    "My approach to the Language Identification Challenge that was held on Kaggle is detailed in this notebook which I have created. The purpose of the challenge is to properly categorise every material that has been produced in any of the 11 official languages of South Africa. Among the many processes that are included in the notebook are data exploration, preprocessing, feature extraction, model training, evaluation, and the development of submissions. By utilising techniques from the field of machine learning, my objective is to develop a classification model that is capable of accurately identifying the language of a text sample that has been provided."
   ]
  },
  {
   "cell_type": "markdown",
   "id": "e2aaf042",
   "metadata": {},
   "source": [
    "## Importing Libraries"
   ]
  },
  {
   "cell_type": "code",
   "execution_count": 2,
   "id": "bba61ef1",
   "metadata": {},
   "outputs": [],
   "source": [
    "#Importing necessary libraries\n",
    "import pandas as pd\n",
    "import numpy as np\n",
    "from sklearn.model_selection import train_test_split\n",
    "from sklearn.feature_extraction.text import CountVectorizer, TfidfTransformer\n",
    "from sklearn.metrics import f1_score\n",
    "from sklearn.linear_model import LogisticRegression\n",
    "from sklearn.neighbors import KNeighborsClassifier\n",
    "from sklearn.svm import SVC\n",
    "from sklearn.naive_bayes import MultinomialNB\n",
    "from sklearn.feature_extraction.text import TfidfVectorizer\n",
    "from sklearn.model_selection import train_test_split\n",
    "from sklearn.metrics import f1_score\n",
    "from sklearn.ensemble import AdaBoostClassifier\n",
    "from sklearn.tree import DecisionTreeClassifier\n",
    "from sklearn.ensemble import RandomForestClassifier\n"
   ]
  },
  {
   "cell_type": "markdown",
   "id": "2b4b444c",
   "metadata": {},
   "source": [
    "## Loading of data"
   ]
  },
  {
   "cell_type": "code",
   "execution_count": 3,
   "id": "8db5948d",
   "metadata": {},
   "outputs": [],
   "source": [
    "train_df = pd.read_csv('train_set.csv')\n",
    "test_df = pd.read_csv('test_set.csv')"
   ]
  },
  {
   "cell_type": "markdown",
   "id": "39c764b9",
   "metadata": {},
   "source": [
    "## Exploratory Data Analysis (EDA)"
   ]
  },
  {
   "cell_type": "code",
   "execution_count": 4,
   "id": "94ef1ac1",
   "metadata": {},
   "outputs": [
    {
     "name": "stdout",
     "output_type": "stream",
     "text": [
      "Train Dataset:\n",
      "  lang_id                                               text\n",
      "0     xho  umgaqo-siseko wenza amalungiselelo kumaziko ax...\n",
      "1     xho  i-dha iya kuba nobulumko bokubeka umsebenzi na...\n",
      "2     eng  the province of kwazulu-natal department of tr...\n",
      "3     nso  o netefatša gore o ba file dilo ka moka tše le...\n",
      "4     ven  khomishini ya ndinganyiso ya mbeu yo ewa maana...\n",
      "<bound method NDFrame.tail of       lang_id                                               text\n",
      "0         xho  umgaqo-siseko wenza amalungiselelo kumaziko ax...\n",
      "1         xho  i-dha iya kuba nobulumko bokubeka umsebenzi na...\n",
      "2         eng  the province of kwazulu-natal department of tr...\n",
      "3         nso  o netefatša gore o ba file dilo ka moka tše le...\n",
      "4         ven  khomishini ya ndinganyiso ya mbeu yo ewa maana...\n",
      "...       ...                                                ...\n",
      "32995     tsn  popo ya dipolateforomo tse ke go tlisa boetele...\n",
      "32996     sot  modise mosadi na o ntse o sa utlwe hore thaban...\n",
      "32997     eng  closing date for the submission of completed t...\n",
      "32998     xho  nawuphina umntu ofunyenwe enetyala phantsi kwa...\n",
      "32999     sot  mafapha a mang le ona a lokela ho etsa ditlale...\n",
      "\n",
      "[33000 rows x 2 columns]>\n"
     ]
    }
   ],
   "source": [
    "print(\"Train Dataset:\")\n",
    "print(train_df.head())\n",
    "print(train_df.tail)"
   ]
  },
  {
   "cell_type": "code",
   "execution_count": 5,
   "id": "688a3614",
   "metadata": {},
   "outputs": [
    {
     "name": "stdout",
     "output_type": "stream",
     "text": [
      "\n",
      "Test Dataset:\n",
      "   index                                               text\n",
      "0      1  Mmasepala, fa maemo a a kgethegileng a letlele...\n",
      "1      2  Uzakwaziswa ngokufaneleko nakungafuneka eminye...\n",
      "2      3         Tshivhumbeo tshi fana na ngano dza vhathu.\n",
      "3      4  Kube inja nelikati betingevakala kutsi titsini...\n",
      "4      5                      Winste op buitelandse valuta.\n",
      "<bound method NDFrame.tail of       index                                               text\n",
      "0         1  Mmasepala, fa maemo a a kgethegileng a letlele...\n",
      "1         2  Uzakwaziswa ngokufaneleko nakungafuneka eminye...\n",
      "2         3         Tshivhumbeo tshi fana na ngano dza vhathu.\n",
      "3         4  Kube inja nelikati betingevakala kutsi titsini...\n",
      "4         5                      Winste op buitelandse valuta.\n",
      "...     ...                                                ...\n",
      "5677   5678                   You mark your ballot in private.\n",
      "5678   5679  Ge o ka kgetha ka bowena go se šomiše Mofani k...\n",
      "5679   5680  E Ka kopo etsa kgetho ya hao ka hloko, hobane ...\n",
      "5680   5681  TB ke bokudi ba PMB, mme Morero o tla lefella ...\n",
      "5681   5682              Vakatjhela iwebhusayidi yethu ku-www.\n",
      "\n",
      "[5682 rows x 2 columns]>\n"
     ]
    }
   ],
   "source": [
    "print(\"\\nTest Dataset:\")\n",
    "print(test_df.head())\n",
    "print(test_df.tail)"
   ]
  },
  {
   "cell_type": "markdown",
   "id": "e3e7e1c3",
   "metadata": {},
   "source": [
    "## Data Preprocessing"
   ]
  },
  {
   "cell_type": "code",
   "execution_count": 6,
   "id": "bc71687a",
   "metadata": {},
   "outputs": [],
   "source": [
    "def preprocess_data(train_df, test_df):\n",
    "    # Initializing the TF-IDF vectorizer\n",
    "    vectorizer = TfidfVectorizer()\n",
    "\n",
    "    # Fitting the vectorizer on the training data\n",
    "    vectorizer.fit(train_df['text'])\n",
    "\n",
    "    # Transforming the training and test data using the fitted vectorizer\n",
    "    train_features = vectorizer.transform(train_df['text'])\n",
    "    test_features = vectorizer.transform(test_df['text'])\n",
    "\n",
    "    return train_features, test_features, vectorizer"
   ]
  },
  {
   "cell_type": "markdown",
   "id": "772c0947",
   "metadata": {},
   "source": [
    "## Preprocessing the data"
   ]
  },
  {
   "cell_type": "code",
   "execution_count": 7,
   "id": "4b84ce9a",
   "metadata": {},
   "outputs": [],
   "source": [
    "train_features, test_features, vectorizer = preprocess_data(train_df, test_df)\n",
    "X_train, X_val, y_train, y_val = train_test_split(train_features, train_df['lang_id'], test_size=0.2, random_state=42)"
   ]
  },
  {
   "cell_type": "markdown",
   "id": "1ab230ca",
   "metadata": {},
   "source": [
    "## Training and Evaluation"
   ]
  },
  {
   "cell_type": "markdown",
   "id": "917bbb38",
   "metadata": {},
   "source": [
    "### Logistic Regression Classifier"
   ]
  },
  {
   "cell_type": "code",
   "execution_count": 8,
   "id": "a754cbec",
   "metadata": {},
   "outputs": [
    {
     "name": "stdout",
     "output_type": "stream",
     "text": [
      "Logistic Regression F1 Score: 0.994246281483686\n"
     ]
    }
   ],
   "source": [
    "logReg_model = LogisticRegression()\n",
    "\n",
    "# Fit the classifier to the training data\n",
    "logReg_model.fit(X_train, y_train)\n",
    "\n",
    "# Make predictions on the validation data\n",
    "logReg_preds = logReg_model.predict(X_val)\n",
    "\n",
    "# Evaluate the model using F1 score\n",
    "logReg_f1 = f1_score(y_val, logReg_preds, average='weighted')\n",
    "\n",
    "# Print the F1 score\n",
    "print(\"Logistic Regression F1 Score:\", logReg_f1)"
   ]
  },
  {
   "cell_type": "markdown",
   "id": "87083e89",
   "metadata": {},
   "source": [
    "### K-Nearest Neighbors (KNN) Classifier"
   ]
  },
  {
   "cell_type": "code",
   "execution_count": 9,
   "id": "cfc9fc6c",
   "metadata": {},
   "outputs": [
    {
     "name": "stdout",
     "output_type": "stream",
     "text": [
      "KNN F1 Score: 0.9593450685034197\n"
     ]
    }
   ],
   "source": [
    "KNN_model = KNeighborsClassifier()\n",
    "\n",
    "# Fit the classifier to the training data\n",
    "KNN_model.fit(X_train, y_train)\n",
    "\n",
    "# Make predictions on the validation data\n",
    "KNN_preds = KNN_model.predict(X_val)\n",
    "\n",
    "# Evaluate the model using F1 score\n",
    "KNN_f1 = f1_score(y_val, KNN_preds, average='weighted')\n",
    "\n",
    "# Print the F1 score\n",
    "print(\"KNN F1 Score:\", KNN_f1)"
   ]
  },
  {
   "cell_type": "markdown",
   "id": "61e89aeb",
   "metadata": {},
   "source": [
    "### Support Vector Machine Classifier"
   ]
  },
  {
   "cell_type": "code",
   "execution_count": 10,
   "id": "cf7a5cbc",
   "metadata": {},
   "outputs": [
    {
     "name": "stdout",
     "output_type": "stream",
     "text": [
      "SVM F1 Score: 0.9942650475719713\n"
     ]
    }
   ],
   "source": [
    "SVM = SVC()\n",
    "\n",
    "# Fit the classifier to the training data\n",
    "SVM.fit(X_train, y_train)\n",
    "\n",
    "# Make predictions on the validation data\n",
    "SVM_predictions = SVM.predict(X_val)\n",
    "\n",
    "# Evaluate the model using F1 score\n",
    "SVM_f1 = f1_score(y_val, SVM_predictions, average='weighted')\n",
    "\n",
    "# Print the F1 score\n",
    "print(\"SVM F1 Score:\", SVM_f1)"
   ]
  },
  {
   "cell_type": "markdown",
   "id": "6fa6f7ff",
   "metadata": {},
   "source": [
    "### Naive Bayes Classifier"
   ]
  },
  {
   "cell_type": "code",
   "execution_count": 11,
   "id": "119f6227",
   "metadata": {},
   "outputs": [
    {
     "name": "stdout",
     "output_type": "stream",
     "text": [
      "Naive Bayes F1 Score: 0.9980299054262277\n"
     ]
    }
   ],
   "source": [
    "NaiveB = MultinomialNB()\n",
    "\n",
    "# Fit the classifier to the training data\n",
    "NaiveB.fit(X_train, y_train)\n",
    "\n",
    "# Make predictions on the validation data\n",
    "NaiveB_predictions = NaiveB.predict(X_val)\n",
    "\n",
    "# Evaluate the model using F1 score\n",
    "NaiveB_f1 = f1_score(y_val, NaiveB_predictions, average='weighted')\n",
    "\n",
    "# Print the F1 score\n",
    "print(\"Naive Bayes F1 Score:\", NaiveB_f1)"
   ]
  },
  {
   "cell_type": "markdown",
   "id": "0e285a2b",
   "metadata": {},
   "source": [
    "### Decision Tree Classifier"
   ]
  },
  {
   "cell_type": "code",
   "execution_count": 12,
   "id": "ed7615ee",
   "metadata": {},
   "outputs": [
    {
     "name": "stdout",
     "output_type": "stream",
     "text": [
      "Decision Tree Classifier F1 Score: 0.9477130011719774\n"
     ]
    }
   ],
   "source": [
    "# Instantiate the Decision Tree classifier\n",
    "Decision_tree = DecisionTreeClassifier()\n",
    "\n",
    "# Fit the classifier to the training data\n",
    "Decision_tree.fit(X_train, y_train)\n",
    "\n",
    "# Make predictions on the validation data\n",
    "Decision_tree_predictions = Decision_tree.predict(X_val)\n",
    "\n",
    "# Evaluate the model using F1 score\n",
    "Decision_tree_f1 = f1_score(y_val, Decision_tree_predictions, average='weighted')\n",
    "\n",
    "# Print the F1 score\n",
    "print(\"Decision Tree Classifier F1 Score:\", Decision_tree_f1)\n"
   ]
  },
  {
   "cell_type": "markdown",
   "id": "6903af84",
   "metadata": {},
   "source": [
    "### AdaBoost Classifier"
   ]
  },
  {
   "cell_type": "code",
   "execution_count": 13,
   "id": "6f765706",
   "metadata": {},
   "outputs": [
    {
     "name": "stderr",
     "output_type": "stream",
     "text": [
      "c:\\Users\\hlaka\\AppData\\Local\\Programs\\Python\\Python312\\Lib\\site-packages\\sklearn\\ensemble\\_weight_boosting.py:519: FutureWarning: The SAMME.R algorithm (the default) is deprecated and will be removed in 1.6. Use the SAMME algorithm to circumvent this warning.\n",
      "  warnings.warn(\n"
     ]
    },
    {
     "name": "stdout",
     "output_type": "stream",
     "text": [
      "AdaBoost Classifier F1 Score: 0.5294951161683713\n"
     ]
    }
   ],
   "source": [
    "# Instantiate the AdaBoost classifier\n",
    "AdaBoost = AdaBoostClassifier()\n",
    "\n",
    "# Fit the classifier to the training data\n",
    "AdaBoost.fit(X_train, y_train)\n",
    "\n",
    "# Make predictions on the validation data\n",
    "AdaBoost_predictions = AdaBoost.predict(X_val)\n",
    "\n",
    "# Evaluate the model using F1 score\n",
    "AdaBoost_f1 = f1_score(y_val, AdaBoost_predictions, average='weighted')\n",
    "\n",
    "# Print the F1 score\n",
    "print(\"AdaBoost Classifier F1 Score:\", AdaBoost_f1)\n"
   ]
  },
  {
   "cell_type": "markdown",
   "id": "cc94e5d9",
   "metadata": {},
   "source": [
    "### Random Forest Classifier"
   ]
  },
  {
   "cell_type": "code",
   "execution_count": 14,
   "id": "1fa3beec",
   "metadata": {},
   "outputs": [
    {
     "name": "stdout",
     "output_type": "stream",
     "text": [
      "Random Forest Classifier F1 Score: 0.9865715417679949\n"
     ]
    }
   ],
   "source": [
    "# Instantiate the Random Forest classifier\n",
    "random_forest = RandomForestClassifier()\n",
    "\n",
    "# Fit the classifier to the training data\n",
    "random_forest.fit(X_train, y_train)\n",
    "\n",
    "# Make predictions on the validation data\n",
    "rf_predictions = random_forest.predict(X_val)\n",
    "\n",
    "# Evaluate the model using F1 score\n",
    "rf_f1 = f1_score(y_val, rf_predictions, average='weighted')\n",
    "\n",
    "# Print the F1 score\n",
    "print(\"Random Forest Classifier F1 Score:\", rf_f1)\n"
   ]
  },
  {
   "cell_type": "markdown",
   "id": "5cd5fda4",
   "metadata": {},
   "source": [
    "### LinearSVC Classifier"
   ]
  },
  {
   "cell_type": "code",
   "execution_count": 15,
   "id": "f8201f67",
   "metadata": {},
   "outputs": [
    {
     "name": "stderr",
     "output_type": "stream",
     "text": [
      "c:\\Users\\hlaka\\AppData\\Local\\Programs\\Python\\Python312\\Lib\\site-packages\\sklearn\\svm\\_classes.py:31: FutureWarning: The default value of `dual` will change from `True` to `'auto'` in 1.5. Set the value of `dual` explicitly to suppress the warning.\n",
      "  warnings.warn(\n"
     ]
    },
    {
     "name": "stdout",
     "output_type": "stream",
     "text": [
      "Linear SVC Classifier F1 Score: 0.9965130432004637\n"
     ]
    }
   ],
   "source": [
    "from sklearn.svm import LinearSVC\n",
    "\n",
    "# Instantiate the Linear SVC classifier\n",
    "linear_svc = LinearSVC()\n",
    "\n",
    "# Fit the classifier to the training data\n",
    "linear_svc.fit(X_train, y_train)\n",
    "\n",
    "# Make predictions on the validation data\n",
    "svc_predictions = linear_svc.predict(X_val)\n",
    "\n",
    "# Evaluate the model using F1 score\n",
    "svc_f1 = f1_score(y_val, svc_predictions, average='weighted')\n",
    "\n",
    "# Print the F1 score\n",
    "print(\"Linear SVC Classifier F1 Score:\", svc_f1)\n"
   ]
  },
  {
   "cell_type": "markdown",
   "id": "9dcccf8f",
   "metadata": {},
   "source": [
    "## Generate predictions on the test set"
   ]
  },
  {
   "cell_type": "code",
   "execution_count": 16,
   "id": "98a7fe8d",
   "metadata": {},
   "outputs": [],
   "source": [
    "# Converting the test data into TF-IDF vectors\n",
    "X_test = vectorizer.transform(test_df['text'])\n",
    "\n",
    "# Generating predictions on the best performing model\n",
    "test_predictions = NaiveB.predict(X_test)"
   ]
  },
  {
   "cell_type": "markdown",
   "id": "2d7ec6ca",
   "metadata": {},
   "source": [
    "## Creating a csv for submission"
   ]
  },
  {
   "cell_type": "code",
   "execution_count": 17,
   "id": "a1f06d01",
   "metadata": {},
   "outputs": [],
   "source": [
    "# Creating a submission dataframe with 'index' and 'lang_id' columns\n",
    "submission_df = pd.DataFrame({'index': test_df['index'], 'lang_id': test_predictions})\n",
    "\n",
    "submission_df.to_csv('Submission.csv', index=False)"
   ]
  },
  {
   "cell_type": "code",
   "execution_count": null,
   "id": "b630a836",
   "metadata": {},
   "outputs": [],
   "source": []
  },
  {
   "cell_type": "code",
   "execution_count": null,
   "id": "49624b13",
   "metadata": {},
   "outputs": [],
   "source": []
  }
 ],
 "metadata": {
  "kernelspec": {
   "display_name": "Python 3 (ipykernel)",
   "language": "python",
   "name": "python3"
  },
  "language_info": {
   "codemirror_mode": {
    "name": "ipython",
    "version": 3
   },
   "file_extension": ".py",
   "mimetype": "text/x-python",
   "name": "python",
   "nbconvert_exporter": "python",
   "pygments_lexer": "ipython3",
   "version": "3.12.0"
  }
 },
 "nbformat": 4,
 "nbformat_minor": 5
}
