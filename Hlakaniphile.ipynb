{
 "cells": [
  {
   "cell_type": "markdown",
   "id": "073e2013",
   "metadata": {},
   "source": [
    "# Language Identification in South African Text: Kaggle Competition"
   ]
  },
  {
   "cell_type": "markdown",
   "id": "30905d98",
   "metadata": {},
   "source": [
    "# Name: Hlakaniphile Thulile Zwane"
   ]
  },
  {
   "cell_type": "markdown",
   "id": "b6e4968e",
   "metadata": {},
   "source": [
    "My approach to the Language Identification Challenge that was held on Kaggle is detailed in this notebook which I have created. The purpose of the challenge is to properly categorise every material that has been produced in any of the 11 official languages of South Africa. Among the many processes that are included in the notebook are data exploration, preprocessing, feature extraction, model training, evaluation, and the development of submissions. By utilising techniques from the field of machine learning, my objective is to develop a classification model that is capable of accurately identifying the language of a text sample that has been provided."
   ]
  },
  {
   "cell_type": "markdown",
   "id": "f7123486",
   "metadata": {},
   "source": [
    "## Importing Libraries"
   ]
  },
  {
   "cell_type": "code",
   "execution_count": 16,
   "id": "7189ad49",
   "metadata": {},
   "outputs": [],
   "source": [
    "#Importing necessary libraries\n",
    "import pandas as pd\n",
    "import numpy as np\n",
    "from sklearn.model_selection import train_test_split\n",
    "from sklearn.feature_extraction.text import CountVectorizer, TfidfTransformer\n",
    "from sklearn.metrics import f1_score\n",
    "from sklearn.linear_model import LogisticRegression\n",
    "from sklearn.neighbors import KNeighborsClassifier\n",
    "from sklearn.svm import SVC\n",
    "from sklearn.naive_bayes import MultinomialNB\n",
    "from sklearn.feature_extraction.text import TfidfVectorizer\n",
    "from sklearn.model_selection import train_test_split\n",
    "from sklearn.metrics import f1_score"
   ]
  },
  {
   "cell_type": "markdown",
   "id": "1f6fad2a",
   "metadata": {},
   "source": [
    "## Loading of data"
   ]
  },
  {
   "cell_type": "code",
   "execution_count": 17,
   "id": "19c26ed2",
   "metadata": {},
   "outputs": [],
   "source": [
    "train_df = pd.read_csv('train_set.csv')\n",
    "test_df = pd.read_csv('test_set.csv')"
   ]
  },
  {
   "cell_type": "markdown",
   "id": "4e9947b3",
   "metadata": {},
   "source": [
    "## Exploratory Data Analysis (EDA)"
   ]
  },
  {
   "cell_type": "code",
   "execution_count": 19,
   "id": "baba0a53",
   "metadata": {},
   "outputs": [
    {
     "name": "stdout",
     "output_type": "stream",
     "text": [
      "Train Dataset:\n",
      "  lang_id                                               text\n",
      "0     xho  umgaqo-siseko wenza amalungiselelo kumaziko ax...\n",
      "1     xho  i-dha iya kuba nobulumko bokubeka umsebenzi na...\n",
      "2     eng  the province of kwazulu-natal department of tr...\n",
      "3     nso  o netefatša gore o ba file dilo ka moka tše le...\n",
      "4     ven  khomishini ya ndinganyiso ya mbeu yo ewa maana...\n",
      "<bound method NDFrame.tail of       lang_id                                               text\n",
      "0         xho  umgaqo-siseko wenza amalungiselelo kumaziko ax...\n",
      "1         xho  i-dha iya kuba nobulumko bokubeka umsebenzi na...\n",
      "2         eng  the province of kwazulu-natal department of tr...\n",
      "3         nso  o netefatša gore o ba file dilo ka moka tše le...\n",
      "4         ven  khomishini ya ndinganyiso ya mbeu yo ewa maana...\n",
      "...       ...                                                ...\n",
      "32995     tsn  popo ya dipolateforomo tse ke go tlisa boetele...\n",
      "32996     sot  modise mosadi na o ntse o sa utlwe hore thaban...\n",
      "32997     eng  closing date for the submission of completed t...\n",
      "32998     xho  nawuphina umntu ofunyenwe enetyala phantsi kwa...\n",
      "32999     sot  mafapha a mang le ona a lokela ho etsa ditlale...\n",
      "\n",
      "[33000 rows x 2 columns]>\n"
     ]
    }
   ],
   "source": [
    "print(\"Train Dataset:\")\n",
    "print(train_df.head())\n",
    "print(train_df.tail)"
   ]
  },
  {
   "cell_type": "code",
   "execution_count": 20,
   "id": "c9d73106",
   "metadata": {},
   "outputs": [
    {
     "name": "stdout",
     "output_type": "stream",
     "text": [
      "\n",
      "Test Dataset:\n",
      "   index                                               text\n",
      "0      1  Mmasepala, fa maemo a a kgethegileng a letlele...\n",
      "1      2  Uzakwaziswa ngokufaneleko nakungafuneka eminye...\n",
      "2      3         Tshivhumbeo tshi fana na ngano dza vhathu.\n",
      "3      4  Kube inja nelikati betingevakala kutsi titsini...\n",
      "4      5                      Winste op buitelandse valuta.\n",
      "<bound method NDFrame.tail of       index                                               text\n",
      "0         1  Mmasepala, fa maemo a a kgethegileng a letlele...\n",
      "1         2  Uzakwaziswa ngokufaneleko nakungafuneka eminye...\n",
      "2         3         Tshivhumbeo tshi fana na ngano dza vhathu.\n",
      "3         4  Kube inja nelikati betingevakala kutsi titsini...\n",
      "4         5                      Winste op buitelandse valuta.\n",
      "...     ...                                                ...\n",
      "5677   5678                   You mark your ballot in private.\n",
      "5678   5679  Ge o ka kgetha ka bowena go se šomiše Mofani k...\n",
      "5679   5680  E Ka kopo etsa kgetho ya hao ka hloko, hobane ...\n",
      "5680   5681  TB ke bokudi ba PMB, mme Morero o tla lefella ...\n",
      "5681   5682              Vakatjhela iwebhusayidi yethu ku-www.\n",
      "\n",
      "[5682 rows x 2 columns]>\n"
     ]
    }
   ],
   "source": [
    "print(\"\\nTest Dataset:\")\n",
    "print(test_df.head())\n",
    "print(test_df.tail)"
   ]
  },
  {
   "cell_type": "markdown",
   "id": "28f57403",
   "metadata": {},
   "source": [
    "## Data Preprocessing"
   ]
  },
  {
   "cell_type": "code",
   "execution_count": 21,
   "id": "256cfc30",
   "metadata": {},
   "outputs": [],
   "source": [
    "def preprocess_data(train_df, test_df):\n",
    "    # Initializing the TF-IDF vectorizer\n",
    "    vectorizer = TfidfVectorizer()\n",
    "\n",
    "    # Fitting the vectorizer on the training data\n",
    "    vectorizer.fit(train_df['text'])\n",
    "\n",
    "    # Transforming the training and test data using the fitted vectorizer\n",
    "    train_features = vectorizer.transform(train_df['text'])\n",
    "    test_features = vectorizer.transform(test_df['text'])\n",
    "\n",
    "    return train_features, test_features, vectorizer"
   ]
  },
  {
   "cell_type": "markdown",
   "id": "3bca82a9",
   "metadata": {},
   "source": [
    "## Preprocessing the data"
   ]
  },
  {
   "cell_type": "code",
   "execution_count": 22,
   "id": "1a36e760",
   "metadata": {},
   "outputs": [],
   "source": [
    "train_features, test_features, vectorizer = preprocess_data(train_df, test_df)\n",
    "X_train, X_val, y_train, y_val = train_test_split(train_features, train_df['lang_id'], test_size=0.2, random_state=42)"
   ]
  },
  {
   "cell_type": "markdown",
   "id": "a5e1c687",
   "metadata": {},
   "source": [
    "## Training and Evaluation"
   ]
  },
  {
   "cell_type": "markdown",
   "id": "192cea6a",
   "metadata": {},
   "source": [
    "### Logistic Regression"
   ]
  },
  {
   "cell_type": "code",
   "execution_count": 23,
   "id": "e132cc79",
   "metadata": {},
   "outputs": [
    {
     "name": "stdout",
     "output_type": "stream",
     "text": [
      "Logistic Regression F1 Score: 0.994246281483686\n"
     ]
    }
   ],
   "source": [
    "logReg_model = LogisticRegression()\n",
    "logReg_model.fit(X_train, y_train)\n",
    "logReg_preds = logReg_model.predict(X_val)\n",
    "logReg_f1 = f1_score(y_val, logReg_preds, average='weighted')\n",
    "\n",
    "print(\"Logistic Regression F1 Score:\", logReg_f1)"
   ]
  },
  {
   "cell_type": "markdown",
   "id": "2a15863a",
   "metadata": {},
   "source": [
    "## Generate predictions on the test set"
   ]
  },
  {
   "cell_type": "code",
   "execution_count": 24,
   "id": "2cb12fd3",
   "metadata": {},
   "outputs": [],
   "source": [
    "# Converting the test data into TF-IDF vectors\n",
    "X_test = vectorizer.transform(test_df['text'])\n",
    "\n",
    "# Generating predictions on the best performing model\n",
    "test_predictions = logReg_model.predict(X_test)"
   ]
  },
  {
   "cell_type": "markdown",
   "id": "862f9c32",
   "metadata": {},
   "source": [
    "## Creating a csv for submission"
   ]
  },
  {
   "cell_type": "code",
   "execution_count": 27,
   "id": "f79424d7",
   "metadata": {},
   "outputs": [],
   "source": [
    "# Creating a submission dataframe with 'index' and 'lang_id' columns\n",
    "submission_df = pd.DataFrame({'index': test_df['index'], 'lang_id': test_predictions})\n",
    "\n",
    "submission_df.to_csv('Submission.csv', index=False)"
   ]
  }
 ],
 "metadata": {
  "kernelspec": {
   "display_name": "Python 3 (ipykernel)",
   "language": "python",
   "name": "python3"
  },
  "language_info": {
   "codemirror_mode": {
    "name": "ipython",
    "version": 3
   },
   "file_extension": ".py",
   "mimetype": "text/x-python",
   "name": "python",
   "nbconvert_exporter": "python",
   "pygments_lexer": "ipython3",
   "version": "3.11.4"
  }
 },
 "nbformat": 4,
 "nbformat_minor": 5
}
